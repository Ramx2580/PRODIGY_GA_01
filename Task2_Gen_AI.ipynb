{
  "nbformat": 4,
  "nbformat_minor": 0,
  "metadata": {
    "colab": {
      "provenance": [],
      "authorship_tag": "ABX9TyMQiO11h8rouOmYlkyrMG3A",
      "include_colab_link": true
    },
    "kernelspec": {
      "name": "python3",
      "display_name": "Python 3"
    },
    "language_info": {
      "name": "python"
    }
  },
  "cells": [
    {
      "cell_type": "markdown",
      "metadata": {
        "id": "view-in-github",
        "colab_type": "text"
      },
      "source": [
        "<a href=\"https://colab.research.google.com/github/Ramx2580/Prodigy-InfoTech-Gen-AI/blob/main/Task2_Gen_AI.ipynb\" target=\"_parent\"><img src=\"https://colab.research.google.com/assets/colab-badge.svg\" alt=\"Open In Colab\"/></a>"
      ]
    },
    {
      "cell_type": "code",
      "execution_count": null,
      "metadata": {
        "id": "n6Yk194Sxc0i"
      },
      "outputs": [],
      "source": [
        "!pip install transformers"
      ]
    },
    {
      "cell_type": "code",
      "source": [
        "from transformers import pipeline, set_seed"
      ],
      "metadata": {
        "id": "gDJUDSFex-RB"
      },
      "execution_count": 3,
      "outputs": []
    },
    {
      "cell_type": "code",
      "source": [
        "generator = pipeline('text-generation', model='gpt2')\n",
        "set_seed(42)"
      ],
      "metadata": {
        "id": "PWq2Lw89yTAb"
      },
      "execution_count": null,
      "outputs": []
    },
    {
      "cell_type": "code",
      "source": [
        "prompt = \"In the future, artificial intelligence will\"\n",
        "\n",
        "result = generator(\n",
        "    prompt,\n",
        "    max_length=50,\n",
        "    num_return_sequences=1,\n",
        "    truncation=True,         # Safely truncate long inputs\n",
        "    do_sample=True,          # Enable sampling for more creative output\n",
        "    temperature=0.7          # Controls randomness (lower = more focused)\n",
        ")\n",
        "\n",
        "print(\"Generated Text:\\n\")\n",
        "print(result[0]['generated_text'])"
      ],
      "metadata": {
        "id": "xlG4Kec-yj0b"
      },
      "execution_count": null,
      "outputs": []
    }
  ]
}