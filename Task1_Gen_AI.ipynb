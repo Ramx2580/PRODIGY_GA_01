{
  "nbformat": 4,
  "nbformat_minor": 0,
  "metadata": {
    "colab": {
      "provenance": [],
      "authorship_tag": "ABX9TyMPfpywq6lJZckyGmHU3dTh",
      "include_colab_link": true
    },
    "kernelspec": {
      "name": "python3",
      "display_name": "Python 3"
    },
    "language_info": {
      "name": "python"
    }
  },
  "cells": [
    {
      "cell_type": "markdown",
      "metadata": {
        "id": "view-in-github",
        "colab_type": "text"
      },
      "source": [
        "<a href=\"https://colab.research.google.com/github/Ramx2580/Prodigy-InfoTech-Gen-AI/blob/main/Task1_Gen_AI.ipynb\" target=\"_parent\"><img src=\"https://colab.research.google.com/assets/colab-badge.svg\" alt=\"Open In Colab\"/></a>"
      ]
    },
    {
      "cell_type": "code",
      "execution_count": null,
      "metadata": {
        "id": "sobhO0P5svmE"
      },
      "outputs": [],
      "source": [
        "!pip install transformers torch"
      ]
    },
    {
      "cell_type": "code",
      "source": [
        "from transformers import pipeline\n",
        "\n",
        "# Load GPT-2 text generation pipeline\n",
        "generator = pipeline(\"text-generation\", model=\"gpt2\")"
      ],
      "metadata": {
        "id": "CdCmaXZ-uQ0Y"
      },
      "execution_count": null,
      "outputs": []
    },
    {
      "cell_type": "code",
      "source": [
        "prompt = \"The future of artificial intelligence is\"\n",
        "\n",
        "# Generate text\n",
        "output = generator(\n",
        "    prompt,\n",
        "    max_length=50,\n",
        "    num_return_sequences=1,\n",
        "    truncation=True\n",
        ")\n",
        "\n",
        "# Display result\n",
        "print(\"Generated Text:\\n\")\n",
        "print(output[0]['generated_text'])"
      ],
      "metadata": {
        "id": "gmVxiAn9u_GC"
      },
      "execution_count": null,
      "outputs": []
    }
  ]
}